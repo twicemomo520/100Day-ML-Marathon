{
 "cells": [
  {
   "cell_type": "markdown",
   "metadata": {},
   "source": [
    "## 練習時間\n",
    "在小量的資料上，我們用眼睛就可以看得出來程式碼是否有跑出我們理想中的結果\n",
    "\n",
    "請嘗試想像一個你需要的資料結構 (裡面的值可以是隨機的)，然後用上述的方法把它變成 pandas DataFrame\n",
    "\n",
    "#### Ex: 想像一個 dataframe 有兩個欄位，一個是國家，一個是人口，求人口數最多的國家\n",
    "\n",
    "### Hints: [隨機產生數值](https://blog.csdn.net/christianashannon/article/details/78867204)"
   ]
  },
  {
   "cell_type": "code",
   "execution_count": 7,
   "metadata": {
    "collapsed": true
   },
   "outputs": [],
   "source": [
    "import pandas as pd\n",
    "import numpy as np\n",
    "import random"
   ]
  },
  {
   "cell_type": "code",
   "execution_count": 11,
   "metadata": {},
   "outputs": [
    {
     "name": "stdout",
     "output_type": "stream",
     "text": [
      "    國家        人口\n",
      "0   日本  92388271\n",
      "1   台灣  62684626\n",
      "2   韓國  14826082\n",
      "3   美國  63382650\n",
      "4  加拿大  14701280\n",
      "5  墨西哥  18268469\n",
      "6   印度  46534402\n",
      "7  義大利  74080465\n",
      "8   瑞典  93953921\n",
      "9   瑞士  28045190\n"
     ]
    }
   ],
   "source": [
    "data = {'國家':['日本','台灣','韓國','美國','加拿大','墨西哥','印度','義大利','瑞典','瑞士'] ,\n",
    "        '人口':[random.randint(1000000,100000000) for i in range(10)] }\n",
    "data2 = pd.DataFrame(data,columns=['國家','人口'])\n",
    "print(data2)\n",
    "#有辦法可以讓資料對齊嗎......"
   ]
  },
  {
   "cell_type": "code",
   "execution_count": 14,
   "metadata": {},
   "outputs": [
    {
     "data": {
      "text/plain": [
       "國家          瑞典\n",
       "人口    93953921\n",
       "Name: 8, dtype: object"
      ]
     },
     "execution_count": 14,
     "metadata": {},
     "output_type": "execute_result"
    }
   ],
   "source": [
    "data2.loc[data2['人口'].idxmax()]"
   ]
  }
 ],
 "metadata": {
  "kernelspec": {
   "display_name": "Python 3",
   "language": "python",
   "name": "python3"
  },
  "language_info": {
   "codemirror_mode": {
    "name": "ipython",
    "version": 3
   },
   "file_extension": ".py",
   "mimetype": "text/x-python",
   "name": "python",
   "nbconvert_exporter": "python",
   "pygments_lexer": "ipython3",
   "version": "3.6.3"
  }
 },
 "nbformat": 4,
 "nbformat_minor": 2
}
