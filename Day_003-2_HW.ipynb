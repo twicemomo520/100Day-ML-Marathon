{
 "cells": [
  {
   "cell_type": "markdown",
   "metadata": {},
   "source": [
    "## 讀取 txt 檔\n",
    "* 請讀取 [text file](https://raw.githubusercontent.com/vashineyu/slides_and_others/master/tutorial/examples/imagenet_urls_examples.txt)\n",
    "* 懶人複製連結: https://raw.githubusercontent.com/vashineyu/slides_and_others/master/tutorial/examples/imagenet_urls_examples.txt\n",
    "\n",
    "### Hints: 使用 [Request](https://blog.gtwang.org/programming/python-requests-module-tutorial/) 抓取資料\n",
    "### Hints: [字串分割](http://www.runoob.com/python/att-string-split.html)\n",
    "### Hints: 例外處理: [Try-Except](https://pydoing.blogspot.com/2011/01/python-try.html)"
   ]
  },
  {
   "cell_type": "code",
   "execution_count": 1,
   "metadata": {
    "collapsed": true
   },
   "outputs": [],
   "source": [
    "## 假如我們不想把資料載到自己的電腦裡?\n",
    "# 把連結填入\n",
    "target_url = 'https://raw.githubusercontent.com/vashineyu/slides_and_others/master/tutorial/examples/imagenet_urls_examples.txt'"
   ]
  },
  {
   "cell_type": "code",
   "execution_count": 27,
   "metadata": {},
   "outputs": [
    {
     "name": "stdout",
     "output_type": "stream",
     "text": [
      "784594\n"
     ]
    },
    {
     "data": {
      "text/plain": [
       "'n00015388_157\\thttp://farm1.static.flickr.com/145/430300483_21e993670c.jpg\\nn00015388_238\\thttp://farm2'"
      ]
     },
     "execution_count": 27,
     "metadata": {},
     "output_type": "execute_result"
    }
   ],
   "source": [
    "import requests\n",
    "response = requests.get(target_url)\n",
    "data = response.text\n",
    "\n",
    "# 用 request 傳送回來的資料不會認得斷行符號\n",
    "print(len(data))\n",
    "data[0:100]"
   ]
  },
  {
   "cell_type": "code",
   "execution_count": 28,
   "metadata": {},
   "outputs": [
    {
     "name": "stdout",
     "output_type": "stream",
     "text": [
      "9996\n"
     ]
    },
    {
     "data": {
      "text/plain": [
       "'n00015388_157\\thttp://farm1.static.flickr.com/145/430300483_21e993670c.jpg'"
      ]
     },
     "execution_count": 28,
     "metadata": {},
     "output_type": "execute_result"
    }
   ],
   "source": [
    "# 找到換行符號，用該符號做字串分割後，把它拿掉\n",
    "split_tag = '\\n'\n",
    "\n",
    "data = data.split(split_tag)\n",
    "print(len(data))\n",
    "data[0]"
   ]
  },
  {
   "cell_type": "markdown",
   "metadata": {},
   "source": [
    "## 將 txt 轉成 pandas dataframe"
   ]
  },
  {
   "cell_type": "code",
   "execution_count": 60,
   "metadata": {},
   "outputs": [
    {
     "name": "stdout",
     "output_type": "stream",
     "text": [
      "               0  \\\n",
      "0  n00015388_157   \n",
      "1  n00015388_238   \n",
      "2  n00015388_304   \n",
      "3  n00015388_327   \n",
      "4  n00015388_355   \n",
      "\n",
      "                                                               1     2     3  \\\n",
      "0    http://farm1.static.flickr.com/145/430300483_21e993670c.jpg  None  None   \n",
      "1  http://farm2.static.flickr.com/1005/3352960681_37b9c1d27b.jpg  None  None   \n",
      "2      http://farm1.static.flickr.com/27/51009336_a9663af3dd.jpg  None  None   \n",
      "3  http://farm4.static.flickr.com/3025/2444687979_bf7bc8df21.jpg  None  None   \n",
      "4      http://img100.imageshack.us/img100/3253/forrest004fs9.jpg  None  None   \n",
      "\n",
      "      4     5     6     7     8     9  \n",
      "0  None  None  None  None  None  None  \n",
      "1  None  None  None  None  None  None  \n",
      "2  None  None  None  None  None  None  \n",
      "3  None  None  None  None  None  None  \n",
      "4  None  None  None  None  None  None  \n"
     ]
    }
   ],
   "source": [
    "import pandas as pd\n",
    "pd.set_option('max_colwidth',200)#加長\n",
    "arrange_data = []\n",
    "for line in data:\n",
    "    line = line.replace('\\t',' ').split(' ')\n",
    "    arrange_data.append(line)\n",
    "df = pd.DataFrame(arrange_data)\n",
    "print(df.head())"
   ]
  },
  {
   "cell_type": "code",
   "execution_count": 47,
   "metadata": {
    "scrolled": false
   },
   "outputs": [
    {
     "name": "stdout",
     "output_type": "stream",
     "text": [
      "                                                                                                              1\n",
      "0                                                   http://farm1.static.flickr.com/145/430300483_21e993670c.jpg\n",
      "1                                                 http://farm2.static.flickr.com/1005/3352960681_37b9c1d27b.jpg\n",
      "2                                                     http://farm1.static.flickr.com/27/51009336_a9663af3dd.jpg\n",
      "3                                                 http://farm4.static.flickr.com/3025/2444687979_bf7bc8df21.jpg\n",
      "4                                                     http://img100.imageshack.us/img100/3253/forrest004fs9.jpg\n",
      "5                                                      http://img172.imageshack.us/img172/4606/napo03072en9.jpg\n",
      "6                        http://fotootjesvanannelies.web-log.nl/olifantfotootjes/images/2008/06/04/img_8870.jpg\n",
      "7  http://www.deweekkrant.nl/images/library/pictures/4f/2e/a5/cf/2_3d81b762a5e8a345bbb1f0884fab2e9762146129.jpg\n",
      "8                                                     http://www.porschemania.it/discus/messages/815/102099.jpg\n",
      "9                                                    http://farm1.static.flickr.com/72/225029238_805b0937ca.jpg\n"
     ]
    }
   ],
   "source": [
    "print(df.iloc[:10, 1:2])"
   ]
  },
  {
   "cell_type": "markdown",
   "metadata": {},
   "source": [
    "## 讀取圖片，請讀取上面 data frame 中的前 5 張圖片"
   ]
  },
  {
   "cell_type": "code",
   "execution_count": 58,
   "metadata": {},
   "outputs": [
    {
     "name": "stdout",
     "output_type": "stream",
     "text": [
      "                                                               1\n",
      "0    http://farm1.static.flickr.com/145/430300483_21e993670c.jpg\n",
      "1  http://farm2.static.flickr.com/1005/3352960681_37b9c1d27b.jpg\n",
      "2      http://farm1.static.flickr.com/27/51009336_a9663af3dd.jpg\n",
      "3  http://farm4.static.flickr.com/3025/2444687979_bf7bc8df21.jpg\n",
      "4      http://img100.imageshack.us/img100/3253/forrest004fs9.jpg\n"
     ]
    }
   ],
   "source": [
    "from PIL import Image\n",
    "from io import BytesIO\n",
    "import numpy as np\n",
    "import matplotlib.pyplot as plt\n",
    "import requests\n",
    "\n",
    "# 請用 df.loc[...] 得到第一筆資料的連結\n",
    "first_link = df.loc[:4,1:1]\n",
    "print(first_link)\n"
   ]
  },
  {
   "cell_type": "code",
   "execution_count": 61,
   "metadata": {
    "collapsed": true
   },
   "outputs": [],
   "source": [
    "def img2arr_fromURLs(url_list, resize = False):\n",
    "    img_list = []\n",
    "    for url in url_list:\n",
    "        response = requests.get(url)\n",
    "        try:\n",
    "            img = Image.open(response).content\n",
    "            if resize:\n",
    "                img = img.resize((256,256))\n",
    "                img = np.array(img)\n",
    "                img_list.append(img)\n",
    "        except:\n",
    "            pass\n",
    "    \n",
    "    return img_list"
   ]
  },
  {
   "cell_type": "code",
   "execution_count": null,
   "metadata": {
    "collapsed": true
   },
   "outputs": [],
   "source": [
    "result = img2arr_fromURLs(df[0:5][1].values)\n",
    "print(\"Total images that we got: %i \" % len(result)) # 如果不等於 5, 代表有些連結失效囉\n",
    "\n",
    "for im_get in result:\n",
    "    plt.imshow(im_get)\n",
    "    plt.show()"
   ]
  }
 ],
 "metadata": {
  "anaconda-cloud": {},
  "kernelspec": {
   "display_name": "Python 3",
   "language": "python",
   "name": "python3"
  },
  "language_info": {
   "codemirror_mode": {
    "name": "ipython",
    "version": 3
   },
   "file_extension": ".py",
   "mimetype": "text/x-python",
   "name": "python",
   "nbconvert_exporter": "python",
   "pygments_lexer": "ipython3",
   "version": "3.6.3"
  }
 },
 "nbformat": 4,
 "nbformat_minor": 1
}
